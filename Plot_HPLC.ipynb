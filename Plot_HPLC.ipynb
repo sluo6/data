{
 "cells": [
  {
   "cell_type": "code",
   "execution_count": 627,
   "metadata": {
    "collapsed": true
   },
   "outputs": [],
   "source": [
    "import pandas as pd"
   ]
  },
  {
   "cell_type": "code",
   "execution_count": 628,
   "metadata": {
    "collapsed": true
   },
   "outputs": [],
   "source": [
    "#define some constants\n",
    "FACTOR = 1000\n",
    "OVERLAY = 150"
   ]
  },
  {
   "cell_type": "code",
   "execution_count": 629,
   "metadata": {
    "collapsed": false
   },
   "outputs": [],
   "source": [
    "#import dataset1\n",
    "ADP_standard = pd.read_table(filepath_or_buffer=\"20170529__ADP_002_truncated.txt\", delimiter=\"\\t\", header=8, nrows=2739)"
   ]
  },
  {
   "cell_type": "code",
   "execution_count": 630,
   "metadata": {
    "collapsed": false
   },
   "outputs": [],
   "source": [
    "#transform dataset to array\n",
    "x1 = ADP_standard[[0]].as_matrix()\n",
    "y1 = ADP_standard[[1]].as_matrix()\n",
    "#normalize y\n",
    "for index in range(len(y1)):\n",
    "    y1[index] = y1[index]/FACTOR"
   ]
  },
  {
   "cell_type": "code",
   "execution_count": 631,
   "metadata": {
    "collapsed": false
   },
   "outputs": [],
   "source": [
    "#import dataset2\n",
    "ATPAMP_standard = pd.read_table(filepath_or_buffer=\"ATPAMP_truncated\", delimiter=\",\", header=0, nrows=1201)"
   ]
  },
  {
   "cell_type": "code",
   "execution_count": 632,
   "metadata": {
    "collapsed": false
   },
   "outputs": [],
   "source": [
    "x2 = ATPAMP_standard[[0]].as_matrix()\n",
    "y2 = ATPAMP_standard[[1]].as_matrix()\n",
    "#normalize y\n",
    "for index in range(len(y2)):\n",
    "    y2[index] = y2[index]/FACTOR\n",
    "    y2[index] = y2[index] + OVERLAY"
   ]
  },
  {
   "cell_type": "code",
   "execution_count": 633,
   "metadata": {
    "collapsed": true
   },
   "outputs": [],
   "source": [
    "#start to plot\n",
    "import matplotlib.pyplot as plt"
   ]
  },
  {
   "cell_type": "code",
   "execution_count": 634,
   "metadata": {
    "collapsed": false
   },
   "outputs": [
    {
     "data": {
      "text/plain": [
       "[<matplotlib.lines.Line2D at 0xc933650>]"
      ]
     },
     "execution_count": 634,
     "metadata": {},
     "output_type": "execute_result"
    }
   ],
   "source": [
    "#add lines to the figure\n",
    "plt.plot(x1,y1, linewidth = 1.0)\n",
    "plt.plot(x2,y2, linewidth = 1.0)"
   ]
  },
  {
   "cell_type": "code",
   "execution_count": 635,
   "metadata": {
    "collapsed": false
   },
   "outputs": [
    {
     "data": {
      "text/plain": [
       "<matplotlib.text.Text at 0xc5da250>"
      ]
     },
     "execution_count": 635,
     "metadata": {},
     "output_type": "execute_result"
    }
   ],
   "source": [
    "#axis labels\n",
    "plt.xlabel(\"Retention Time (min)\")\n",
    "plt.ylabel(\"Intensity\")\n",
    "#title\n",
    "plt.title(\"AgnA assay\")"
   ]
  },
  {
   "cell_type": "code",
   "execution_count": 636,
   "metadata": {
    "collapsed": false
   },
   "outputs": [
    {
     "data": {
      "text/plain": [
       "<matplotlib.legend.Legend at 0xc591e10>"
      ]
     },
     "execution_count": 636,
     "metadata": {},
     "output_type": "execute_result"
    }
   ],
   "source": [
    "#figure legends\n",
    "plt.legend(['ADP standard', 'ATP, AMP standards'])"
   ]
  },
  {
   "cell_type": "code",
   "execution_count": 637,
   "metadata": {
    "collapsed": false
   },
   "outputs": [
    {
     "name": "stdout",
     "output_type": "stream",
     "text": [
      "[12.0, 9.0]\n"
     ]
    }
   ],
   "source": [
    "#adjust figure size\n",
    "fig_size = plt.rcParams[\"figure.figsize\"]\n",
    "print (fig_size)\n",
    "fig_size[0] = 12\n",
    "fig_size[1] = 9\n",
    "plt.rcParams[\"figure.figsize\"] = fig_size"
   ]
  },
  {
   "cell_type": "code",
   "execution_count": 638,
   "metadata": {
    "collapsed": false
   },
   "outputs": [
    {
     "data": {
      "image/png": "[encoded data removed]",
      "text/plain": [
       "<matplotlib.figure.Figure at 0xc595f90>"
      ]
     },
     "metadata": {},
     "output_type": "display_data"
    }
   ],
   "source": [
    "plt.show()"
   ]
  }
 ],
 "metadata": {
  "kernelspec": {
   "display_name": "Python 3",
   "language": "python",
   "name": "python3"
  },
  "language_info": {
   "codemirror_mode": {
    "name": "ipython",
    "version": 3
   },
   "file_extension": ".py",
   "mimetype": "text/x-python",
   "name": "python",
   "nbconvert_exporter": "python",
   "pygments_lexer": "ipython3",
   "version": "3.6.0"
  }
 },
 "nbformat": 4,
 "nbformat_minor": 2
}
