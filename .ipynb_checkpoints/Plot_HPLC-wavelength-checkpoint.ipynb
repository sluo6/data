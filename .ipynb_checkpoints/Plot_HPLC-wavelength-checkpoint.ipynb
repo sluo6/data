{
 "cells": [
  {
   "cell_type": "code",
   "execution_count": 14,
   "metadata": {
    "collapsed": true
   },
   "outputs": [],
   "source": [
    "import pandas as pd"
   ]
  },
  {
   "cell_type": "code",
   "execution_count": 15,
   "metadata": {
    "collapsed": true
   },
   "outputs": [],
   "source": [
    "#define some constants\n",
    "FACTOR = 1000\n",
    "OVERLAY = 1200\n",
    "LINEWIDTH = 2"
   ]
  },
  {
   "cell_type": "code",
   "execution_count": 16,
   "metadata": {
    "collapsed": false
   },
   "outputs": [],
   "source": [
    "#import dataset1\n",
    "dataset1 = pd.read_table(filepath_or_buffer=\"./original/Assay2_210nm_truncated\", delimiter=\",\", header=0)"
   ]
  },
  {
   "cell_type": "code",
   "execution_count": 17,
   "metadata": {
    "collapsed": false
   },
   "outputs": [],
   "source": [
    "#transform dataset to array\n",
    "x1 = dataset1[[0]].as_matrix()\n",
    "y1 = dataset1[[1]].as_matrix()\n",
    "#normalize y\n",
    "for index in range(len(y1)):\n",
    "    y1[index] = y1[index]/FACTOR\n",
    "    y1[index] = y1[index] + OVERLAY*0"
   ]
  },
  {
   "cell_type": "code",
   "execution_count": 18,
   "metadata": {
    "collapsed": false
   },
   "outputs": [],
   "source": [
    "#import dataset2\n",
    "dataset2 = pd.read_table(filepath_or_buffer=\"./original/Assay2_260nm_truncated\", delimiter=\",\", header=0)"
   ]
  },
  {
   "cell_type": "code",
   "execution_count": 19,
   "metadata": {
    "collapsed": false
   },
   "outputs": [],
   "source": [
    "x2 = dataset2[[0]].as_matrix()\n",
    "#calibrate x\n",
    "for index in range(len(x2)):\n",
    "    x2[index] = x2[index]\n",
    "y2 = dataset2[[1]].as_matrix()\n",
    "#normalize y\n",
    "for index in range(len(y2)):\n",
    "    y2[index] = y2[index]/FACTOR\n",
    "    y2[index] = y2[index] + OVERLAY*1"
   ]
  },
  {
   "cell_type": "code",
   "execution_count": 20,
   "metadata": {
    "collapsed": true
   },
   "outputs": [],
   "source": [
    "#start to plot\n",
    "import matplotlib.pyplot as plt"
   ]
  },
  {
   "cell_type": "code",
   "execution_count": 21,
   "metadata": {
    "collapsed": false
   },
   "outputs": [
    {
     "data": {
      "text/plain": [
       "[<matplotlib.lines.Line2D at 0x7f0f32718690>]"
      ]
     },
     "execution_count": 21,
     "metadata": {},
     "output_type": "execute_result"
    }
   ],
   "source": [
    "#add lines to the figure\n",
    "plt.plot(x1,y1, linewidth = LINEWIDTH)\n",
    "plt.plot(x2,y2, linewidth = LINEWIDTH)"
   ]
  },
  {
   "cell_type": "code",
   "execution_count": 22,
   "metadata": {
    "collapsed": false
   },
   "outputs": [
    {
     "data": {
      "text/plain": [
       "<matplotlib.text.Text at 0x7f0f2fc81a50>"
      ]
     },
     "execution_count": 22,
     "metadata": {},
     "output_type": "execute_result"
    }
   ],
   "source": [
    "#axis labels\n",
    "plt.xlabel(\"Retention Time (min)\")\n",
    "plt.ylabel(\"Relative Intensity\")\n",
    "#title\n",
    "plt.title(\"AgnA assay different wavelengths\")"
   ]
  },
  {
   "cell_type": "code",
   "execution_count": 23,
   "metadata": {
    "collapsed": false
   },
   "outputs": [
    {
     "data": {
      "text/plain": [
       "<matplotlib.legend.Legend at 0x7f0f2fd50cd0>"
      ]
     },
     "execution_count": 23,
     "metadata": {},
     "output_type": "execute_result"
    }
   ],
   "source": [
    "#figure legends\n",
    "params = {'legend.fontsize': 10,\n",
    "          'legend.handlelength': 4}\n",
    "plt.rcParams.update(params)\n",
    "plt.legend(['210 nm', '260 nm'])"
   ]
  },
  {
   "cell_type": "code",
   "execution_count": 24,
   "metadata": {
    "collapsed": false
   },
   "outputs": [
    {
     "name": "stdout",
     "output_type": "stream",
     "text": [
      "[12.0, 9.0]\n"
     ]
    }
   ],
   "source": [
    "#adjust figure size\n",
    "fig_size = plt.rcParams[\"figure.figsize\"]\n",
    "print (fig_size)\n",
    "fig_size[0] = 12\n",
    "fig_size[1] = 9\n",
    "plt.rcParams[\"figure.figsize\"] = fig_size"
   ]
  },
  {
   "cell_type": "code",
   "execution_count": 25,
   "metadata": {
    "collapsed": false
   },
   "outputs": [],
   "source": [
    "#some formating\n",
    "plt.tick_params(top='off', bottom='off', left='off', right='off', labelleft='off', labelbottom='on')"
   ]
  },
  {
   "cell_type": "code",
   "execution_count": 26,
   "metadata": {
    "collapsed": false
   },
   "outputs": [
    {
     "data": {
      "image/png": "[encoded data removed]",
      "text/plain": [
       "<matplotlib.figure.Figure at 0x7f0f326fcfd0>"
      ]
     },
     "metadata": {},
     "output_type": "display_data"
    }
   ],
   "source": [
    "plt.show()"
   ]
  },
  {
   "cell_type": "code",
   "execution_count": null,
   "metadata": {
    "collapsed": true
   },
   "outputs": [],
   "source": []
  }
 ],
 "metadata": {
  "kernelspec": {
   "display_name": "Python 2",
   "language": "python",
   "name": "python2"
  },
  "language_info": {
   "codemirror_mode": {
    "name": "ipython",
    "version": 2
   },
   "file_extension": ".py",
   "mimetype": "text/x-python",
   "name": "python",
   "nbconvert_exporter": "python",
   "pygments_lexer": "ipython2",
   "version": "2.7.13"
  }
 },
 "nbformat": 4,
 "nbformat_minor": 2
}
