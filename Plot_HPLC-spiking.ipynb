{
 "cells": [
  {
   "cell_type": "code",
   "execution_count": 61,
   "metadata": {
    "collapsed": true
   },
   "outputs": [],
   "source": [
    "import pandas as pd"
   ]
  },
  {
   "cell_type": "code",
   "execution_count": 62,
   "metadata": {
    "collapsed": true
   },
   "outputs": [],
   "source": [
    "#define some constants\n",
    "FACTOR = 1000\n",
    "OVERLAY = 1200\n",
    "LINEWIDTH = 2"
   ]
  },
  {
   "cell_type": "code",
   "execution_count": 63,
   "metadata": {
    "collapsed": false
   },
   "outputs": [],
   "source": [
    "#import dataset1\n",
    "dataset1 = pd.read_table(filepath_or_buffer=\"./original/Assay2_ATP_truncated\", delimiter=\",\", header=0)"
   ]
  },
  {
   "cell_type": "code",
   "execution_count": 64,
   "metadata": {
    "collapsed": false
   },
   "outputs": [],
   "source": [
    "#transform dataset to array\n",
    "x1 = dataset1[[0]].as_matrix()\n",
    "y1 = dataset1[[1]].as_matrix()\n",
    "#normalize y\n",
    "for index in range(len(y1)):\n",
    "    y1[index] = y1[index]/FACTOR\n",
    "    y1[index] = y1[index] + OVERLAY*0"
   ]
  },
  {
   "cell_type": "code",
   "execution_count": 65,
   "metadata": {
    "collapsed": false
   },
   "outputs": [],
   "source": [
    "#import dataset2\n",
    "dataset2 = pd.read_table(filepath_or_buffer=\"./original/Assay2_ADP_truncated\", delimiter=\",\", header=0)"
   ]
  },
  {
   "cell_type": "code",
   "execution_count": 66,
   "metadata": {
    "collapsed": false
   },
   "outputs": [],
   "source": [
    "x2 = dataset2[[0]].as_matrix()\n",
    "#calibrate x\n",
    "for index in range(len(x2)):\n",
    "    x2[index] = x2[index]\n",
    "y2 = dataset2[[1]].as_matrix()\n",
    "#normalize y\n",
    "for index in range(len(y2)):\n",
    "    y2[index] = y2[index]/FACTOR\n",
    "    y2[index] = y2[index] + OVERLAY*1"
   ]
  },
  {
   "cell_type": "code",
   "execution_count": 67,
   "metadata": {
    "collapsed": true
   },
   "outputs": [],
   "source": [
    "#import dataset3\n",
    "dataset3 = pd.read_table(filepath_or_buffer=\"./original/Assay2_AMP_truncated\", delimiter=\",\", header=0)"
   ]
  },
  {
   "cell_type": "code",
   "execution_count": 68,
   "metadata": {
    "collapsed": true
   },
   "outputs": [],
   "source": [
    "x3 = dataset3[[0]].as_matrix()\n",
    "y3 = dataset3[[1]].as_matrix()\n",
    "#normalize y\n",
    "for index in range(len(y3)):\n",
    "    y3[index] = y3[index]/FACTOR\n",
    "    y3[index] = y3[index] + OVERLAY*2"
   ]
  },
  {
   "cell_type": "code",
   "execution_count": 69,
   "metadata": {
    "collapsed": true
   },
   "outputs": [],
   "source": [
    "#start to plot\n",
    "import matplotlib.pyplot as plt"
   ]
  },
  {
   "cell_type": "code",
   "execution_count": 70,
   "metadata": {
    "collapsed": false
   },
   "outputs": [
    {
     "data": {
      "text/plain": [
       "[<matplotlib.lines.Line2D at 0x7f909ad83b10>]"
      ]
     },
     "execution_count": 70,
     "metadata": {},
     "output_type": "execute_result"
    }
   ],
   "source": [
    "#add lines to the figure\n",
    "plt.plot(x1,y1, linewidth = LINEWIDTH)\n",
    "plt.plot(x2,y2, linewidth = LINEWIDTH)\n",
    "plt.plot(x3,y3, linewidth = LINEWIDTH)"
   ]
  },
  {
   "cell_type": "code",
   "execution_count": 71,
   "metadata": {
    "collapsed": false
   },
   "outputs": [
    {
     "data": {
      "text/plain": [
       "<matplotlib.text.Text at 0x7f909afa8390>"
      ]
     },
     "execution_count": 71,
     "metadata": {},
     "output_type": "execute_result"
    }
   ],
   "source": [
    "#axis labels\n",
    "plt.xlabel(\"Retention Time (min)\")\n",
    "plt.ylabel(\"Relative Intensity\")\n",
    "#title\n",
    "plt.title(\"AgnA assay spiking\")"
   ]
  },
  {
   "cell_type": "code",
   "execution_count": 72,
   "metadata": {
    "collapsed": false
   },
   "outputs": [
    {
     "data": {
      "text/plain": [
       "<matplotlib.legend.Legend at 0x7f909b02b350>"
      ]
     },
     "execution_count": 72,
     "metadata": {},
     "output_type": "execute_result"
    }
   ],
   "source": [
    "#figure legends\n",
    "params = {'legend.fontsize': 10,\n",
    "          'legend.handlelength': 4}\n",
    "plt.rcParams.update(params)\n",
    "plt.legend(['ATP spiking', 'ADP spiking','AMP spiking'])"
   ]
  },
  {
   "cell_type": "code",
   "execution_count": 73,
   "metadata": {
    "collapsed": false
   },
   "outputs": [
    {
     "name": "stdout",
     "output_type": "stream",
     "text": [
      "[12.0, 9.0]\n"
     ]
    }
   ],
   "source": [
    "#adjust figure size\n",
    "fig_size = plt.rcParams[\"figure.figsize\"]\n",
    "print (fig_size)\n",
    "fig_size[0] = 12\n",
    "fig_size[1] = 9\n",
    "plt.rcParams[\"figure.figsize\"] = fig_size"
   ]
  },
  {
   "cell_type": "code",
   "execution_count": 74,
   "metadata": {
    "collapsed": false
   },
   "outputs": [],
   "source": [
    "#some formating\n",
    "#plt.tick_params(top='off', bottom='off', left='off', right='off', labelleft='off', labelbottom='on')"
   ]
  },
  {
   "cell_type": "code",
   "execution_count": 75,
   "metadata": {
    "collapsed": false
   },
   "outputs": [
    {
     "data": {
      "image/png": "[encoded data removed]",
      "text/plain": [
       "<matplotlib.figure.Figure at 0x7f909b2a9250>"
      ]
     },
     "metadata": {},
     "output_type": "display_data"
    }
   ],
   "source": [
    "plt.show()"
   ]
  },
  {
   "cell_type": "code",
   "execution_count": null,
   "metadata": {
    "collapsed": true
   },
   "outputs": [],
   "source": []
  }
 ],
 "metadata": {
  "kernelspec": {
   "display_name": "Python 2",
   "language": "python",
   "name": "python2"
  },
  "language_info": {
   "codemirror_mode": {
    "name": "ipython",
    "version": 2
   },
   "file_extension": ".py",
   "mimetype": "text/x-python",
   "name": "python",
   "nbconvert_exporter": "python",
   "pygments_lexer": "ipython2",
   "version": "2.7.13"
  }
 },
 "nbformat": 4,
 "nbformat_minor": 2
}
